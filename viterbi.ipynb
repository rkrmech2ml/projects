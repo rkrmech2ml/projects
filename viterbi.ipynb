{
  "cells": [
    {
      "cell_type": "code",
      "execution_count": null,
      "metadata": {
        "colab": {
          "base_uri": "https://localhost:8080/"
        },
        "id": "yfW5SpWGQI_Z",
        "outputId": "5161c2cf-163a-4cd1-c9fa-0d131e28efa1"
      },
      "outputs": [
        {
          "name": "stdout",
          "output_type": "stream",
          "text": [
            "{'happy': {'happy': 0.7, 'sad': 0.4}, 'sad': {'happy': 0.3, 'sad': 0.6}}\n"
          ]
        }
      ],
      "source": [
        "states = ('happy', 'sad')\n",
        " \n",
        "observations = ('sunny', 'rainy')\n",
        " \n",
        "start_probability = {'happy': 0.1, 'sad': 0.9}\n",
        " \n",
        "transition_probability = {\n",
        "   'happy' : {'happy': 0.7, 'sad': 0.4},\n",
        "   'sad' :   {'happy': 0.3, 'sad': 0.6},\n",
        "   }\n",
        "print(transition_probability)"
      ]
    },
    {
      "cell_type": "code",
      "execution_count": null,
      "metadata": {
        "colab": {
          "base_uri": "https://localhost:8080/"
        },
        "id": "eMvMroKfRg9p",
        "outputId": "7be79a7d-f46e-40cf-9066-6931fd1d83f4"
      },
      "outputs": [
        {
          "name": "stdout",
          "output_type": "stream",
          "text": [
            "{'happy': {'sunny': 0.8, 'rainy': 0.2}, 'sad': {'sunny': 0.4, 'rainy': 0.6}}\n"
          ]
        }
      ],
      "source": [
        "emission_probability = {\n",
        "   'happy' : {'sunny': 0.8, 'rainy': 0.2,},\n",
        "   'sad'   : {'sunny': 0.4, 'rainy': 0.6,},\n",
        "   }\n",
        "print(emission_probability)\n",
        "\n",
        "\n"
      ]
    },
    {
      "cell_type": "code",
      "execution_count": 36,
      "metadata": {
        "colab": {
          "base_uri": "https://localhost:8080/"
        },
        "id": "It3ovBslStK6",
        "outputId": "559a95fd-42e2-46ea-a3a0-1ff32ce0a1de"
      },
      "outputs": [
        {
          "name": "stdout",
          "output_type": "stream",
          "text": [
            "(['sad', 'sad'], {'happy': 0.021600000000000005, 'sad': 0.12960000000000002})\n"
          ]
        }
      ],
      "source": [
        "def Viterbi(obsrvd, states, s_prblty, t_prblty, e_prblty):\n",
        "\tpath = { s:[] for s in states} # init path: path[s] represents the path ends with s\n",
        "\tcurrent_prbty = {}\n",
        "\tfor s in states:\n",
        "\t\tcurrent_prbty[s] = s_prblty[s]*e_prblty[s][obsrvd[0]]\n",
        "    #print(current_prbty)\n",
        "\tfor i in range(1, len(obsrvd)):\n",
        "\t\tlast_prblty = current_prbty\n",
        "\t\tcurrent_prbty = {}\n",
        "\t\tfor curr_state in states:\n",
        "\t\t\tmax_pro, last_sta = max(((last_prblty[last_state]*t_prblty[last_state][curr_state]*e_prblty[curr_state][obsrvd[i]], last_state) \n",
        "\t\t\t\t                       for last_state in states))#finiding the maximum prblty in each node\n",
        "\t\t\tcurrent_prbty[curr_state] = max_pro\n",
        "\t\t\tpath[curr_state].append(last_sta)\n",
        "\n",
        "\t# find the final largest probability\n",
        "\tmax_pro = -1\n",
        "\tmax_path = None\n",
        "\tfor s in states:\n",
        "\t\tpath[s].append(s)\n",
        "\t\tmax_path = path[s]\n",
        "\t\tax_pro = current_prbty[s]\n",
        "      #print('%s: %s'%(current_prbty[s], path[s])) # different path and their probability\n",
        "\treturn max_path,current_prbty\n",
        "\n",
        "\n",
        "\n",
        "obsrvd = ['sunny', 'rainy']\n",
        "print (Viterbi(obsrvd, states, start_probability, transition_probability, emission_probability))"
      ]
    },
    {
      "cell_type": "code",
      "execution_count": null,
      "metadata": {
        "id": "tTzSN28rStED"
      },
      "outputs": [],
      "source": []
    }
  ],
  "metadata": {
    "colab": {
      "provenance": []
    },
    "kernelspec": {
      "display_name": "Python 3",
      "name": "python3"
    },
    "language_info": {
      "name": "python"
    }
  },
  "nbformat": 4,
  "nbformat_minor": 0
}
